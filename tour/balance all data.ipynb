{
 "cells": [
  {
   "cell_type": "markdown",
   "id": "47fcc486",
   "metadata": {},
   "source": [
    "# Assess income level predictions on adult census data"
   ]
  },
  {
   "cell_type": "code",
   "execution_count": null,
   "id": "ca12889d",
   "metadata": {
    "tags": []
   },
   "outputs": [],
   "source": [
    "from sklearn.pipeline import Pipeline\n",
    "from sklearn.impute import SimpleImputer\n",
    "from sklearn.preprocessing import StandardScaler, OneHotEncoder\n",
    "from sklearn.compose import ColumnTransformer\n",
    "import raimitigations.dataprocessing as dp\n",
    "\n",
    "import pandas as pd\n",
    "import pickle\n",
    "from lightgbm import LGBMClassifier\n",
    "import raimitigations.dataprocessing as dp\n",
    "from raimitigations.cohort import CohortDefinition, CohortManager\n",
    "from raimitigations.dataprocessing import EncoderOHE\n",
    "import warnings\n",
    "warnings.filterwarnings(\"ignore\")"
   ]
  },
  {
   "cell_type": "code",
   "execution_count": null,
   "id": "ecc9fd14-9a0b-4b89-96b8-dc584d1beb39",
   "metadata": {},
   "outputs": [],
   "source": [
    "import matplotlib.pyplot as plt\n",
    "import matplotlib\n",
    "import seaborn as sns\n",
    "\n",
    "def plot_value_counts_cohort(y_full, subsets, normalize = True, figname = 'fig.png'):\n",
    "    plt.figure().clear()\n",
    "    plt.close()\n",
    "    plt.cla()\n",
    "    plt.clf()\n",
    "    fig = plt.gcf()\n",
    "    fig.set_size_inches(18, 10)\n",
    "    sns.set_theme(style=\"whitegrid\")\n",
    "    if normalize:\n",
    "        plt.ylim(0, 1)\n",
    "\n",
    "    value_count = y_full.value_counts(normalize=normalize)\n",
    "\n",
    "    subsets_col = ['full df', 'full df']\n",
    "    counts_col = [value_count[0], value_count[1]]\n",
    "    label_col = [0, 1]\n",
    "\n",
    "    for key in subsets.keys():\n",
    "        value_count = subsets[key][\"y\"].value_counts(normalize=normalize)\n",
    "        subsets_col += [key, key]\n",
    "        counts_col += [value_count[0], value_count[1]]\n",
    "        label_col += [0, 1]\n",
    "\n",
    "    count_df = pd.DataFrame({\"subsets\":subsets_col, \"label\":label_col, \"counts\":counts_col})\n",
    "    \n",
    "    y_label = \"Occurrences\"\n",
    "    if normalize:\n",
    "        y_label = \"Fraction\"\n",
    "\n",
    "    ax = sns.barplot(x=\"subsets\", y=\"counts\", hue=\"label\", data=count_df)\n",
    "    ax.set_xlabel(\"Cohorts\", fontsize=50)\n",
    "    ax.set_ylabel(y_label, fontsize=50)\n",
    "    ax.tick_params(labelsize=50)\n",
    "    plt.legend(fontsize=50)\n",
    "    plt.savefig(figname)"
   ]
  },
  {
   "cell_type": "code",
   "execution_count": null,
   "id": "24dd4647",
   "metadata": {
    "tags": []
   },
   "outputs": [],
   "source": [
    "from sklearn.pipeline import Pipeline\n",
    "from sklearn.impute import SimpleImputer\n",
    "from sklearn.preprocessing import StandardScaler, OneHotEncoder\n",
    "from sklearn.compose import ColumnTransformer\n",
    "\n",
    "def split_label(dataset, target_feature):\n",
    "    X = dataset.drop([target_feature], axis=1)\n",
    "    y = dataset[[target_feature]]\n",
    "    return X, y\n",
    "\n",
    "target_feature = 'income'\n",
    "categorical_features = ['workclass', 'education', 'marital-status',\n",
    "                        'occupation', 'relationship', 'race', 'gender', 'native-country']\n",
    "\n",
    "train_data = pd.read_csv('data/adult-train.csv', skipinitialspace=True, header=0)\n",
    "test_data = pd.read_csv('data/adult-test-sample.csv', skipinitialspace=True, header=0)\n",
    "\n",
    "X_train_original, y_train = split_label(train_data, target_feature)\n",
    "X_test_original, y_test = split_label(test_data, target_feature)\n",
    "\n",
    "estimator = LGBMClassifier(random_state=0, n_estimators=5)\n",
    "\n",
    "# Define the cohorts\n",
    "c1 = [ [ ['relationship', '==', 'Wife'], 'or', ['relationship', '==', 'Husband']]]\n",
    "c2 = None\n",
    "\n",
    "#24720 is the size of the majority class\n",
    "rebalance = dp.Rebalance(X=X_train_original, y=y_train, verbose=False, strategy_over={0:24720, 1:24720})\n",
    "new_X, new_y = rebalance.fit_resample()\n",
    "\n",
    "pipe = Pipeline([\n",
    "    (\"encoder\", dp.EncoderOHE(unknown_err=True)),\n",
    "    (\"imputer\", dp.BasicImputer(verbose=False)),\n",
    "    (\"model\", estimator)\n",
    "])\n",
    "\n",
    "\n",
    "pipe.fit(new_X, new_y)\n",
    "\n",
    "rebalance_cohort = CohortManager(\n",
    "    transform_pipe=[],\n",
    "    cohort_def={\"married\":c1, \"not_married\":c2}\n",
    "    )\n",
    "rebalance_cohort.fit(new_X, new_y)\n",
    "\n",
    "subsets = rebalance_cohort.get_subsets(new_X, new_y, apply_transform=False)\n",
    "plot_value_counts_cohort(new_y, subsets, normalize=True, figname='images/after_mitigation_rebalance_all_data.png')\n"
   ]
  },
  {
   "cell_type": "code",
   "execution_count": null,
   "id": "2ca38e45",
   "metadata": {
    "tags": []
   },
   "outputs": [],
   "source": [
    "pickle.dump(pipe, open(\"../rebalance_all_data\", 'wb'))"
   ]
  }
 ],
 "metadata": {
  "kernelspec": {
   "display_name": "Python 3 (ipykernel)",
   "language": "python",
   "name": "python3"
  },
  "language_info": {
   "codemirror_mode": {
    "name": "ipython",
    "version": 3
   },
   "file_extension": ".py",
   "mimetype": "text/x-python",
   "name": "python",
   "nbconvert_exporter": "python",
   "pygments_lexer": "ipython3",
   "version": "3.9.0"
  }
 },
 "nbformat": 4,
 "nbformat_minor": 5
}
